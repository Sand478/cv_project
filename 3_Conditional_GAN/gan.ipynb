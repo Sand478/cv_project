{
 "cells": [
  {
   "cell_type": "code",
   "execution_count": 1,
   "id": "f3d89961-0a80-4efd-89b8-1d7429abad85",
   "metadata": {},
   "outputs": [],
   "source": [
    "import os\n",
    "from torch.utils.data import TensorDataset, DataLoader\n",
    "from torchvision import transforms\n",
    "import torch\n",
    "from torch import device\n",
    "import torch.nn as nn\n",
    "import cv2\n",
    "from tqdm.notebook import tqdm\n",
    "import torch.nn.functional as F\n",
    "from torchvision import io\n",
    "from torchvision.utils import save_image\n",
    "from torchvision.utils import make_grid\n",
    "from torchsummary import summary\n",
    "import matplotlib.pyplot as plt\n",
    "import numpy as np"
   ]
  },
  {
   "cell_type": "code",
   "execution_count": 4,
   "id": "7492d89d-dd79-4c0b-9d49-184933f40cd9",
   "metadata": {
    "tags": []
   },
   "outputs": [],
   "source": [
    "#!unzip -d ~/DS_bootcamp/kaggle/anime/data/ archive.zip"
   ]
  },
  {
   "cell_type": "code",
   "execution_count": 2,
   "id": "1b780e6e-7bc2-4f48-b16b-f1b5c51285ee",
   "metadata": {},
   "outputs": [],
   "source": [
    "image_size = 64\n",
    "batch_size = 128\n",
    "latent_size= 64\n",
    "stats = (0.5, 0.5, 0.5), (0.5, 0.5, 0.5)\n",
    "\n",
    "preprocessing=transforms.Compose([\n",
    "    transforms.ToPILImage(),\n",
    "    transforms.Resize(image_size),\n",
    "    transforms.ToTensor(),\n",
    "    transforms.Normalize(*stats)])\n",
    "\n",
    "def denorm(img_tensors):\n",
    "    return img_tensors * stats[1][0] + stats[0][0]"
   ]
  },
  {
   "cell_type": "code",
   "execution_count": 3,
   "id": "81e76ef4-2d52-4175-abec-da13714f9432",
   "metadata": {},
   "outputs": [],
   "source": [
    "def CustomImageDataset(path):\n",
    "    data = []\n",
    "    for i in sorted(os.listdir(path)):\n",
    "        data.append(preprocessing(io.read_image(path+'/'+i)))\n",
    "    dataset = torch.stack(data)\n",
    "    return dataset"
   ]
  },
  {
   "cell_type": "code",
   "execution_count": 4,
   "id": "ea589d5a-c62e-4bb9-a4b7-bec066abafbd",
   "metadata": {},
   "outputs": [],
   "source": [
    "data_ldr = DataLoader(CustomImageDataset('data'), shuffle=True, batch_size=batch_size)"
   ]
  },
  {
   "cell_type": "code",
   "execution_count": 5,
   "id": "80d14887-328c-4ebf-afda-fb75a42ba8bf",
   "metadata": {},
   "outputs": [
    {
     "name": "stdout",
     "output_type": "stream",
     "text": [
      "torch.Size([128, 3, 64, 64])\n"
     ]
    },
    {
     "data": {
      "text/plain": [
       "tensor([[[ 0.0431,  0.3255,  0.2392,  ..., -0.3882, -0.4196,  0.8353],\n",
       "         [ 0.0510,  0.2392,  0.1137,  ..., -0.4039, -0.3961,  0.5059],\n",
       "         [ 0.1608,  0.0431,  0.0824,  ..., -0.4118, -0.3961, -0.0510],\n",
       "         ...,\n",
       "         [-0.3412, -0.0196, -0.0039,  ..., -0.0275, -0.0510, -0.0824],\n",
       "         [-0.3412, -0.3647, -0.0118,  ..., -0.0588, -0.0431, -0.3569],\n",
       "         [-0.5137, -0.3961, -0.3412,  ..., -0.2314, -0.3647, -0.0039]],\n",
       "\n",
       "        [[-0.2000,  0.0745,  0.0118,  ..., -0.5451, -0.5529,  0.8431],\n",
       "         [-0.1765,  0.0039, -0.1451,  ..., -0.5529, -0.5373,  0.4745],\n",
       "         [-0.0824, -0.1922, -0.1843,  ..., -0.5529, -0.5608, -0.1059],\n",
       "         ...,\n",
       "         [-0.5294, -0.2157, -0.2000,  ..., -0.1765, -0.2157, -0.2627],\n",
       "         [-0.5294, -0.5529, -0.2000,  ..., -0.2157, -0.2000, -0.4902],\n",
       "         [-0.6784, -0.5686, -0.5216,  ..., -0.3647, -0.4902, -0.2157]],\n",
       "\n",
       "        [[-0.2706, -0.0039, -0.0667,  ..., -0.5529, -0.5529,  0.8353],\n",
       "         [-0.2314, -0.0745, -0.2157,  ..., -0.5686, -0.5529,  0.4667],\n",
       "         [-0.1686, -0.2706, -0.2627,  ..., -0.5843, -0.5608, -0.1216],\n",
       "         ...,\n",
       "         [-0.5608, -0.2549, -0.2392,  ..., -0.2078, -0.2314, -0.3020],\n",
       "         [-0.5608, -0.5843, -0.2314,  ..., -0.2392, -0.2078, -0.4902],\n",
       "         [-0.7020, -0.6000, -0.5451,  ..., -0.3647, -0.5059, -0.4275]]])"
      ]
     },
     "execution_count": 5,
     "metadata": {},
     "output_type": "execute_result"
    }
   ],
   "source": [
    "batch = next(iter(data_ldr))\n",
    "print(batch.shape)\n",
    "batch[0]"
   ]
  },
  {
   "cell_type": "code",
   "execution_count": 6,
   "id": "158bb93c-915d-43f1-a79b-c234a6f74ed4",
   "metadata": {},
   "outputs": [
    {
     "name": "stdout",
     "output_type": "stream",
     "text": [
      "----------------------------------------------------------------\n",
      "        Layer (type)               Output Shape         Param #\n",
      "================================================================\n",
      "   ConvTranspose2d-1           [128, 512, 4, 4]         524,800\n",
      "       BatchNorm2d-2           [128, 512, 4, 4]           1,024\n",
      "              ReLU-3           [128, 512, 4, 4]               0\n",
      "   ConvTranspose2d-4           [128, 256, 8, 8]       2,097,152\n",
      "       BatchNorm2d-5           [128, 256, 8, 8]             512\n",
      "              ReLU-6           [128, 256, 8, 8]               0\n",
      "   ConvTranspose2d-7         [128, 128, 16, 16]         524,288\n",
      "       BatchNorm2d-8         [128, 128, 16, 16]             256\n",
      "              ReLU-9         [128, 128, 16, 16]               0\n",
      "  ConvTranspose2d-10          [128, 64, 32, 32]         131,072\n",
      "      BatchNorm2d-11          [128, 64, 32, 32]             128\n",
      "             ReLU-12          [128, 64, 32, 32]               0\n",
      "  ConvTranspose2d-13           [128, 3, 64, 64]           3,072\n",
      "             Tanh-14           [128, 3, 64, 64]               0\n",
      "================================================================\n",
      "Total params: 3,282,304\n",
      "Trainable params: 3,282,304\n",
      "Non-trainable params: 0\n",
      "----------------------------------------------------------------\n",
      "Input size (MB): 0.03\n",
      "Forward/backward pass size (MB): 384.00\n",
      "Params size (MB): 12.52\n",
      "Estimated Total Size (MB): 396.55\n",
      "----------------------------------------------------------------\n"
     ]
    }
   ],
   "source": [
    "class Generator(nn.Module):\n",
    "    def __init__(self):\n",
    "        super(Generator, self).__init__()\n",
    "\n",
    "        self.upsample1 = nn.Sequential(\n",
    "            nn.ConvTranspose2d(latent_size, 512, kernel_size=4, stride=1, padding=0, bias=True),\n",
    "            nn.BatchNorm2d(512),\n",
    "            nn.ReLU(True)\n",
    "        )\n",
    "\n",
    "        self.upsample2 = nn.Sequential(\n",
    "            nn.ConvTranspose2d(512, 256, kernel_size=4, stride=2, padding=1, bias=False),\n",
    "            nn.BatchNorm2d(256),\n",
    "            nn.ReLU(True)            \n",
    "        )\n",
    "\n",
    "        self.upsample3 = nn.Sequential(\n",
    "            nn.ConvTranspose2d(256, 128, kernel_size=4, stride=2, padding=1, bias=False),\n",
    "            nn.BatchNorm2d(128),\n",
    "            nn.ReLU(True)            \n",
    "        )\n",
    "\n",
    "        self.upsample4 = nn.Sequential(\n",
    "            nn.ConvTranspose2d(128, 64, kernel_size=4, stride=2, padding=1, bias=False),\n",
    "            nn.BatchNorm2d(64),\n",
    "            nn.ReLU(True)    \n",
    "        )\n",
    "\n",
    "        self.upsample5 = nn.Sequential(\n",
    "            nn.ConvTranspose2d(64, 3, kernel_size=4, stride=2, padding=1, bias=False),\n",
    "            nn.Tanh()\n",
    "        )\n",
    "\n",
    "    def forward(self, x):\n",
    "        x = self.upsample1(x)\n",
    "        x = self.upsample2(x)\n",
    "        x = self.upsample3(x)\n",
    "        x = self.upsample4(x)\n",
    "        x = self.upsample5(x)\n",
    "\n",
    "        return x\n",
    "generator = Generator()\n",
    "summary(generator, (64, 1, 1), batch_size=128)"
   ]
  },
  {
   "cell_type": "code",
   "execution_count": 7,
   "id": "b5e8ebb6-78f3-4aed-93c7-0917bc6b1f27",
   "metadata": {},
   "outputs": [
    {
     "name": "stdout",
     "output_type": "stream",
     "text": [
      "----------------------------------------------------------------\n",
      "        Layer (type)               Output Shape         Param #\n",
      "================================================================\n",
      "            Conv2d-1           [-1, 64, 32, 32]           3,072\n",
      "       BatchNorm2d-2           [-1, 64, 32, 32]             128\n",
      "         LeakyReLU-3           [-1, 64, 32, 32]               0\n",
      "            Conv2d-4          [-1, 128, 16, 16]         131,072\n",
      "       BatchNorm2d-5          [-1, 128, 16, 16]             256\n",
      "         LeakyReLU-6          [-1, 128, 16, 16]               0\n",
      "            Conv2d-7            [-1, 256, 8, 8]         524,288\n",
      "       BatchNorm2d-8            [-1, 256, 8, 8]             512\n",
      "         LeakyReLU-9            [-1, 256, 8, 8]               0\n",
      "           Conv2d-10            [-1, 512, 4, 4]       2,097,152\n",
      "      BatchNorm2d-11            [-1, 512, 4, 4]           1,024\n",
      "        LeakyReLU-12            [-1, 512, 4, 4]               0\n",
      "           Conv2d-13              [-1, 1, 1, 1]           8,192\n",
      "          Flatten-14                    [-1, 1]               0\n",
      "          Sigmoid-15                    [-1, 1]               0\n",
      "================================================================\n",
      "Total params: 2,765,696\n",
      "Trainable params: 2,765,696\n",
      "Non-trainable params: 0\n",
      "----------------------------------------------------------------\n",
      "Input size (MB): 0.05\n",
      "Forward/backward pass size (MB): 2.81\n",
      "Params size (MB): 10.55\n",
      "Estimated Total Size (MB): 13.41\n",
      "----------------------------------------------------------------\n"
     ]
    }
   ],
   "source": [
    "class Discriminator(nn.Module):\n",
    "    def __init__(self):\n",
    "        super(Discriminator, self).__init__()\n",
    "        \n",
    "        self.conv1 = nn.Sequential(\n",
    "            nn.Conv2d(3, 64, kernel_size=4, stride=2, padding=1, bias=False),\n",
    "            nn.BatchNorm2d(64),\n",
    "            nn.LeakyReLU(0.2, inplace=True)\n",
    "        )\n",
    "\n",
    "        self.conv2 = nn.Sequential(\n",
    "            nn.Conv2d(64, 128, kernel_size=4, stride=2, padding=1, bias=False),\n",
    "            nn.BatchNorm2d(128),\n",
    "            nn.LeakyReLU(0.2, inplace=True)            \n",
    "        )\n",
    "\n",
    "        self.conv3 = nn.Sequential(\n",
    "            nn.Conv2d(128, 256, kernel_size=4, stride=2, padding=1, bias=False),\n",
    "            nn.BatchNorm2d(256),\n",
    "            nn.LeakyReLU(0.2, inplace=True) \n",
    "        )\n",
    "\n",
    "        self.conv4 = nn.Sequential(\n",
    "            nn.Conv2d(256, 512, kernel_size=4, stride=2, padding=1, bias=False),\n",
    "            nn.BatchNorm2d(512),\n",
    "            nn.LeakyReLU(0.2, inplace=True)\n",
    "        )\n",
    "\n",
    "        self.conv5 = nn.Sequential(\n",
    "            nn.Conv2d(512, 1, kernel_size=4, stride=1, padding=0, bias=False),\n",
    "            nn.Flatten(),\n",
    "            nn.Sigmoid()\n",
    "        )\n",
    "\n",
    "    def forward(self, x):\n",
    "        x = self.conv1(x)\n",
    "        x = self.conv2(x)\n",
    "        x = self.conv3(x)\n",
    "        x = self.conv4(x)\n",
    "        x = self.conv5(x)\n",
    "        return x\n",
    "\n",
    "discriminator = Discriminator()\n",
    "summary(discriminator, (3, 64, 64))"
   ]
  },
  {
   "cell_type": "code",
   "execution_count": 8,
   "id": "0b33a327-770f-425f-baee-05ce13607fdc",
   "metadata": {},
   "outputs": [],
   "source": [
    "sample_dir = 'generated'\n",
    "os.makedirs(sample_dir, exist_ok=True)\n",
    "\n",
    "def save_samples(index, latent_tensors, show=True):\n",
    "    fake_images = generator(latent_tensors)\n",
    "    fake_fname = 'image-{0:0=4d}.png'.format(index)\n",
    "    save_image(denorm(fake_images), os.path.join(sample_dir, fake_fname), nrow=8)\n",
    "    print('Saving', fake_fname)\n",
    "    if show:\n",
    "        fig, ax = plt.subplots(figsize=(8, 8))\n",
    "        ax.set_xticks([]); ax.set_yticks([])\n",
    "        ax.imshow(make_grid(fake_images.cpu().detach(), nrow=8).permute(1, 2, 0))"
   ]
  },
  {
   "cell_type": "code",
   "execution_count": 9,
   "id": "dfb1470a-08d5-4700-bced-ec78e08de67b",
   "metadata": {},
   "outputs": [],
   "source": [
    "def train_discriminator(real_images, opt_d):\n",
    "    opt_d.zero_grad()\n",
    "\n",
    "    real_preds = discriminator(real_images)\n",
    "\n",
    "    real_targets = torch.ones(real_images.size(0), 1)\n",
    "\n",
    "    real_loss = F.binary_cross_entropy(real_preds, real_targets) \n",
    "\n",
    "    real_score = torch.mean(real_preds).item()\n",
    "    \n",
    "    latent = torch.randn(batch_size, latent_size, 1, 1)\n",
    "\n",
    "    fake_images = generator(latent)\n",
    "\n",
    "    fake_targets = torch.zeros(fake_images.size(0), 1)\n",
    "\n",
    "    fake_preds = discriminator(fake_images)\n",
    "\n",
    "    fake_loss = F.binary_cross_entropy(fake_preds, fake_targets)  \n",
    "\n",
    "    fake_score = torch.mean(fake_preds).item()\n",
    "\n",
    "    loss = torch.mean(real_loss + fake_loss)\n",
    "\n",
    "    loss.backward()\n",
    "\n",
    "    opt_d.step()\n",
    "\n",
    "    return loss.item(), real_score, fake_score"
   ]
  },
  {
   "cell_type": "code",
   "execution_count": 10,
   "id": "db213136-4abb-4dcd-98b2-7fe69acfc5b0",
   "metadata": {},
   "outputs": [],
   "source": [
    "def train_generator(opt_g):\n",
    "    opt_g.zero_grad()\n",
    "\n",
    "    latent = torch.randn(batch_size, latent_size, 1,1)\n",
    "\n",
    "    fake_images = generator(latent)\n",
    "    \n",
    "    preds = discriminator(fake_images)\n",
    "\n",
    "    targets = torch.ones(batch_size, 1)\n",
    "    \n",
    "    loss = F.binary_cross_entropy(preds, targets) \n",
    "    \n",
    "    loss.backward()\n",
    "\n",
    "    opt_g.step()\n",
    "    \n",
    "    return loss.item(), latent"
   ]
  },
  {
   "cell_type": "code",
   "execution_count": 11,
   "id": "500d9cfd-3287-4c15-9cd5-c815ce0cd741",
   "metadata": {},
   "outputs": [],
   "source": [
    "def fit(epochs=50, lr=0.0004, start_idx=1):\n",
    "    torch.cuda.empty_cache()\n",
    "    \n",
    "    losses_g = []\n",
    "    losses_d = []\n",
    "    real_scores = []\n",
    "    fake_scores = []\n",
    "  \n",
    "    opt_d = torch.optim.Adam(discriminator.parameters(), lr=lr, betas=(0.5, 0.999))\n",
    "    opt_g = torch.optim.Adam(generator.parameters(), lr=lr, betas=(0.5, 0.999))\n",
    "    \n",
    "    for epoch in range(epochs):\n",
    "        for real_images in tqdm(data_ldr):\n",
    "\n",
    "            loss_d, real_score, fake_score = train_discriminator(real_images, opt_d)\n",
    "            loss_g, latent = train_generator(opt_g)\n",
    "            \n",
    "        losses_g.append(loss_g)\n",
    "        losses_d.append(loss_d)\n",
    "        real_scores.append(real_score)\n",
    "        fake_scores.append(fake_score)\n",
    "        \n",
    "        print(f\"[{epoch+1}/{epochs}], loss_g: {loss_g:.4f}, loss_d: {loss_d:.4f}, real_score: {real_score:.4f}, fake_score: {fake_score:.4f}\")\n",
    "    \n",
    "        save_samples(epoch+start_idx, latent, show=True)\n",
    "    \n",
    "    return losses_g, losses_d, latent, fake_scores"
   ]
  },
  {
   "cell_type": "code",
   "execution_count": 12,
   "id": "1b977ef4-deb6-40b7-a148-fbf169fcfb3d",
   "metadata": {},
   "outputs": [],
   "source": [
    "#loss_g, loss_d, latent, fake_scores = fit(epochs=2)"
   ]
  },
  {
   "cell_type": "code",
   "execution_count": 14,
   "id": "8fcae566-5d85-4d5f-91d0-af0e747448a6",
   "metadata": {},
   "outputs": [],
   "source": [
    "#torch.save(generator, 'generator.pt')\n",
    "#torch.save(discriminator, 'discriminator.pt')"
   ]
  },
  {
   "cell_type": "code",
   "execution_count": 13,
   "id": "0fe136a3-e8e7-41b0-af9c-29fabc9d1783",
   "metadata": {},
   "outputs": [],
   "source": [
    "generator = torch.load('generator.pt')\n",
    "discriminator = torch.load('discriminator.pt')"
   ]
  },
  {
   "cell_type": "code",
   "execution_count": 29,
   "id": "ee23d709-436f-4416-9815-91e1a01b39d8",
   "metadata": {},
   "outputs": [
    {
     "data": {
      "image/png": "[encoded data removed]",
      "text/plain": [
       "<Figure size 640x480 with 1 Axes>"
      ]
     },
     "metadata": {},
     "output_type": "display_data"
    }
   ],
   "source": [
    "lt = torch.rand((64)).unsqueeze(1).unsqueeze(1).unsqueeze(0)\n",
    "img = denorm(generator(lt))\n",
    "plt.imshow(make_grid(img.cpu().detach(), nrow=8).permute(1, 2, 0));"
   ]
  },
  {
   "cell_type": "code",
   "execution_count": 301,
   "id": "a98c03e9-1fff-43a3-b56a-15416fbc3468",
   "metadata": {},
   "outputs": [],
   "source": [
    "def generate_pics(number):\n",
    "    lt = torch.randn(number, 64, 1, 1)\n",
    "    img = generator(lt)\n",
    "    save_image(denorm(fake_images), os.path.join(sample_dir, 'img.png'), nrow=8)\n",
    "    img = io.read_image('generated/img.png')\n",
    "    return img"
   ]
  },
  {
   "cell_type": "code",
   "execution_count": null,
   "id": "aada6258-8a86-4365-827a-4d49cde0e041",
   "metadata": {},
   "outputs": [],
   "source": []
  },
  {
   "cell_type": "code",
   "execution_count": 174,
   "id": "7b704a07-fadd-4c9f-a8e2-8094e5d5a022",
   "metadata": {},
   "outputs": [],
   "source": [
    "import gradio as gr"
   ]
  },
  {
   "cell_type": "code",
   "execution_count": 300,
   "id": "2cee8724-4790-4b2a-9762-2dd5207545fd",
   "metadata": {},
   "outputs": [
    {
     "name": "stdout",
     "output_type": "stream",
     "text": [
      "Running on local URL:  http://127.0.0.1:7880\n",
      "\n",
      "To create a public link, set `share=True` in `launch()`.\n"
     ]
    },
    {
     "data": {
      "text/html": [
       "<div><iframe src=\"http://127.0.0.1:7880/\" width=\"900\" height=\"500\" allow=\"autoplay; camera; microphone; clipboard-read; clipboard-write;\" frameborder=\"0\" allowfullscreen></iframe></div>"
      ],
      "text/plain": [
       "<IPython.core.display.HTML object>"
      ]
     },
     "metadata": {},
     "output_type": "display_data"
    },
    {
     "data": {
      "text/plain": [
       "(<gradio.routes.App at 0x15b70d510>, 'http://127.0.0.1:7880/', None)"
      ]
     },
     "execution_count": 300,
     "metadata": {},
     "output_type": "execute_result"
    },
    {
     "name": "stderr",
     "output_type": "stream",
     "text": [
      "Traceback (most recent call last):\n",
      "  File \"/Users/aleksandrabudaeva/miniforge3/lib/python3.10/site-packages/gradio/routes.py\", line 275, in run_predict\n",
      "    output = await app.blocks.process_api(\n",
      "  File \"/Users/aleksandrabudaeva/miniforge3/lib/python3.10/site-packages/gradio/blocks.py\", line 791, in process_api\n",
      "    predictions = self.postprocess_data(fn_index, result[\"prediction\"], state)\n",
      "  File \"/Users/aleksandrabudaeva/miniforge3/lib/python3.10/site-packages/gradio/blocks.py\", line 759, in postprocess_data\n",
      "    prediction_value = block.postprocess(prediction_value)\n",
      "  File \"/Users/aleksandrabudaeva/miniforge3/lib/python3.10/site-packages/gradio/components.py\", line 1389, in postprocess\n",
      "    raise ValueError(\"Cannot process this value as an Image\")\n",
      "ValueError: Cannot process this value as an Image\n",
      "Traceback (most recent call last):\n",
      "  File \"/Users/aleksandrabudaeva/miniforge3/lib/python3.10/site-packages/gradio/routes.py\", line 275, in run_predict\n",
      "    output = await app.blocks.process_api(\n",
      "  File \"/Users/aleksandrabudaeva/miniforge3/lib/python3.10/site-packages/gradio/blocks.py\", line 791, in process_api\n",
      "    predictions = self.postprocess_data(fn_index, result[\"prediction\"], state)\n",
      "  File \"/Users/aleksandrabudaeva/miniforge3/lib/python3.10/site-packages/gradio/blocks.py\", line 759, in postprocess_data\n",
      "    prediction_value = block.postprocess(prediction_value)\n",
      "  File \"/Users/aleksandrabudaeva/miniforge3/lib/python3.10/site-packages/gradio/components.py\", line 1389, in postprocess\n",
      "    raise ValueError(\"Cannot process this value as an Image\")\n",
      "ValueError: Cannot process this value as an Image\n"
     ]
    }
   ],
   "source": [
    "def slider_input(slider):\n",
    "    lt = torch.randn(slider, 64, 1, 1)\n",
    "    img = generator(lt)\n",
    "    save_image(denorm(fake_images), os.path.join(sample_dir, 'img.png'), nrow=8)\n",
    "    img = io.read_image('generated/img.png')\n",
    "    return img\n",
    "    \n",
    "gr.Interface(fn=slider_input,\n",
    "             inputs=[gr.Slider(1,100)],\n",
    "             outputs=gr.Image()).launch()"
   ]
  }
 ],
 "metadata": {
  "kernelspec": {
   "display_name": "Python 3 (ipykernel)",
   "language": "python",
   "name": "python3"
  },
  "language_info": {
   "codemirror_mode": {
    "name": "ipython",
    "version": 3
   },
   "file_extension": ".py",
   "mimetype": "text/x-python",
   "name": "python",
   "nbconvert_exporter": "python",
   "pygments_lexer": "ipython3",
   "version": "3.10.6"
  }
 },
 "nbformat": 4,
 "nbformat_minor": 5
}
