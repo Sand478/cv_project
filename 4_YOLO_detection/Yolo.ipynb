{
  "cells": [
    {
      "cell_type": "code",
      "execution_count": null,
      "metadata": {
        "colab": {
          "base_uri": "https://localhost:8080/"
        },
        "id": "O-AUNIWjJW2d",
        "outputId": "b1620a1b-5146-464e-dfe8-5239cea81ad6"
      },
      "outputs": [
        {
          "name": "stdout",
          "output_type": "stream",
          "text": [
            "fatal: destination path 'yolov5' already exists and is not an empty directory.\n",
            "/content/yolov5\n",
            "Looking in indexes: https://pypi.org/simple, https://us-python.pkg.dev/colab-wheels/public/simple/\n",
            "Requirement already satisfied: utils in /usr/local/lib/python3.7/dist-packages (1.0.1)\n"
          ]
        }
      ],
      "source": [
        "!git clone https://github.com/ultralytics/yolov5  # clone\n",
        "%cd yolov5\n",
        "%pip install -qr requirements.txt  # install\n",
        "!pip install utils"
      ]
    },
    {
      "cell_type": "code",
      "execution_count": null,
      "metadata": {
        "colab": {
          "base_uri": "https://localhost:8080/"
        },
        "id": "oPV8kA9WcrXQ",
        "outputId": "7f0ac8d2-fba2-4a4c-bd04-7a8f1c9619ac"
      },
      "outputs": [
        {
          "name": "stderr",
          "output_type": "stream",
          "text": [
            "YOLOv5 🚀 v6.2-203-g6371de8 Python-3.7.15 torch-1.12.1+cu113 CPU\n"
          ]
        },
        {
          "name": "stdout",
          "output_type": "stream",
          "text": [
            "Setup complete ✅ (2 CPUs, 12.7 GB RAM, 38.4/225.8 GB disk)\n"
          ]
        }
      ],
      "source": [
        "import torch\n",
        "import utils\n",
        "display = utils.notebook_init()  # checks"
      ]
    },
    {
      "cell_type": "code",
      "execution_count": null,
      "metadata": {
        "colab": {
          "base_uri": "https://localhost:8080/",
          "height": 1000
        },
        "id": "PG3k7sCGgPvC",
        "outputId": "e16a64d9-e314-4f3a-c216-6a62909f7b83"
      },
      "outputs": [
        {
          "name": "stdout",
          "output_type": "stream",
          "text": [
            "Looking in indexes: https://pypi.org/simple, https://us-python.pkg.dev/colab-wheels/public/simple/\n",
            "Collecting roboflow\n",
            "  Downloading roboflow-0.2.16-py3-none-any.whl (38 kB)\n",
            "Requirement already satisfied: PyYAML>=5.3.1 in /usr/local/lib/python3.7/dist-packages (from roboflow) (6.0)\n",
            "Requirement already satisfied: python-dateutil in /usr/local/lib/python3.7/dist-packages (from roboflow) (2.8.2)\n",
            "Collecting pyparsing==2.4.7\n",
            "  Downloading pyparsing-2.4.7-py2.py3-none-any.whl (67 kB)\n",
            "\u001b[K     |████████████████████████████████| 67 kB 4.7 MB/s \n",
            "\u001b[?25hRequirement already satisfied: six in /usr/local/lib/python3.7/dist-packages (from roboflow) (1.15.0)\n",
            "Collecting requests-toolbelt\n",
            "  Downloading requests_toolbelt-0.10.0-py2.py3-none-any.whl (54 kB)\n",
            "\u001b[K     |████████████████████████████████| 54 kB 3.3 MB/s \n",
            "\u001b[?25hRequirement already satisfied: glob2 in /usr/local/lib/python3.7/dist-packages (from roboflow) (0.7)\n",
            "Requirement already satisfied: matplotlib in /usr/local/lib/python3.7/dist-packages (from roboflow) (3.2.2)\n",
            "Collecting wget\n",
            "  Downloading wget-3.2.zip (10 kB)\n",
            "Requirement already satisfied: tqdm>=4.41.0 in /usr/local/lib/python3.7/dist-packages (from roboflow) (4.64.1)\n",
            "Requirement already satisfied: idna==2.10 in /usr/local/lib/python3.7/dist-packages (from roboflow) (2.10)\n",
            "Collecting chardet==4.0.0\n",
            "  Downloading chardet-4.0.0-py2.py3-none-any.whl (178 kB)\n",
            "\u001b[K     |████████████████████████████████| 178 kB 38.7 MB/s \n",
            "\u001b[?25hCollecting cycler==0.10.0\n",
            "  Downloading cycler-0.10.0-py2.py3-none-any.whl (6.5 kB)\n",
            "Collecting kiwisolver==1.3.1\n",
            "  Downloading kiwisolver-1.3.1-cp37-cp37m-manylinux1_x86_64.whl (1.1 MB)\n",
            "\u001b[K     |████████████████████████████████| 1.1 MB 48.8 MB/s \n",
            "\u001b[?25hRequirement already satisfied: numpy>=1.18.5 in /usr/local/lib/python3.7/dist-packages (from roboflow) (1.21.6)\n",
            "Requirement already satisfied: requests in /usr/local/lib/python3.7/dist-packages (from roboflow) (2.23.0)\n",
            "Requirement already satisfied: opencv-python-headless>=4.5.1.48 in /usr/local/lib/python3.7/dist-packages (from roboflow) (4.6.0.66)\n",
            "Collecting urllib3==1.26.6\n",
            "  Downloading urllib3-1.26.6-py2.py3-none-any.whl (138 kB)\n",
            "\u001b[K     |████████████████████████████████| 138 kB 55.2 MB/s \n",
            "\u001b[?25hCollecting certifi==2021.5.30\n",
            "  Downloading certifi-2021.5.30-py2.py3-none-any.whl (145 kB)\n",
            "\u001b[K     |████████████████████████████████| 145 kB 74.4 MB/s \n",
            "\u001b[?25hRequirement already satisfied: Pillow>=7.1.2 in /usr/local/lib/python3.7/dist-packages (from roboflow) (7.1.2)\n",
            "Collecting python-dotenv\n",
            "  Downloading python_dotenv-0.21.0-py3-none-any.whl (18 kB)\n",
            "Collecting requests\n",
            "  Downloading requests-2.28.1-py3-none-any.whl (62 kB)\n",
            "\u001b[K     |████████████████████████████████| 62 kB 1.6 MB/s \n",
            "\u001b[?25hRequirement already satisfied: charset-normalizer<3,>=2 in /usr/local/lib/python3.7/dist-packages (from requests->roboflow) (2.1.1)\n",
            "Building wheels for collected packages: wget\n",
            "  Building wheel for wget (setup.py) ... \u001b[?25l\u001b[?25hdone\n",
            "  Created wheel for wget: filename=wget-3.2-py3-none-any.whl size=9675 sha256=7cf08d71f525296b44821b25a357d5ddfe8b699f5a35a36728b71f34cf237c36\n",
            "  Stored in directory: /root/.cache/pip/wheels/a1/b6/7c/0e63e34eb06634181c63adacca38b79ff8f35c37e3c13e3c02\n",
            "Successfully built wget\n",
            "Installing collected packages: urllib3, certifi, requests, pyparsing, kiwisolver, cycler, wget, requests-toolbelt, python-dotenv, chardet, roboflow\n",
            "  Attempting uninstall: urllib3\n",
            "    Found existing installation: urllib3 1.24.3\n",
            "    Uninstalling urllib3-1.24.3:\n",
            "      Successfully uninstalled urllib3-1.24.3\n",
            "  Attempting uninstall: certifi\n",
            "    Found existing installation: certifi 2022.9.24\n",
            "    Uninstalling certifi-2022.9.24:\n",
            "      Successfully uninstalled certifi-2022.9.24\n",
            "  Attempting uninstall: requests\n",
            "    Found existing installation: requests 2.23.0\n",
            "    Uninstalling requests-2.23.0:\n",
            "      Successfully uninstalled requests-2.23.0\n",
            "  Attempting uninstall: pyparsing\n",
            "    Found existing installation: pyparsing 3.0.9\n",
            "    Uninstalling pyparsing-3.0.9:\n",
            "      Successfully uninstalled pyparsing-3.0.9\n",
            "  Attempting uninstall: kiwisolver\n",
            "    Found existing installation: kiwisolver 1.4.4\n",
            "    Uninstalling kiwisolver-1.4.4:\n",
            "      Successfully uninstalled kiwisolver-1.4.4\n",
            "  Attempting uninstall: cycler\n",
            "    Found existing installation: cycler 0.11.0\n",
            "    Uninstalling cycler-0.11.0:\n",
            "      Successfully uninstalled cycler-0.11.0\n",
            "  Attempting uninstall: chardet\n",
            "    Found existing installation: chardet 3.0.4\n",
            "    Uninstalling chardet-3.0.4:\n",
            "      Successfully uninstalled chardet-3.0.4\n",
            "Successfully installed certifi-2021.5.30 chardet-4.0.0 cycler-0.10.0 kiwisolver-1.3.1 pyparsing-2.4.7 python-dotenv-0.21.0 requests-2.28.1 requests-toolbelt-0.10.0 roboflow-0.2.16 urllib3-1.26.6 wget-3.2\n"
          ]
        },
        {
          "data": {
            "application/vnd.colab-display-data+json": {
              "pip_warning": {
                "packages": [
                  "certifi",
                  "chardet",
                  "cycler",
                  "kiwisolver",
                  "pyparsing",
                  "requests",
                  "urllib3"
                ]
              }
            }
          },
          "metadata": {},
          "output_type": "display_data"
        },
        {
          "name": "stdout",
          "output_type": "stream",
          "text": [
            "loading Roboflow workspace...\n",
            "loading Roboflow project...\n",
            "Downloading Dataset Version Zip in Goats-5 to yolov5pytorch: 100% [178104438 / 178104438] bytes\n"
          ]
        },
        {
          "name": "stderr",
          "output_type": "stream",
          "text": [
            "Extracting Dataset Version Zip to Goats-5 in yolov5pytorch:: 100%|██████████| 3424/3424 [00:02<00:00, 1293.54it/s]\n"
          ]
        }
      ],
      "source": [
        "!pip install roboflow\n",
        "# Грузим данные для обучения\n",
        "from roboflow import Roboflow\n",
        "rf = Roboflow(api_key=\"uNE4hfYiDf5nillbMmRM\")\n",
        "project = rf.workspace(\"justin-burger\").project(\"goats-hqnax\")\n",
        "dataset = project.version(5).download(\"yolov5\")"
      ]
    },
    {
      "cell_type": "code",
      "execution_count": null,
      "metadata": {
        "colab": {
          "base_uri": "https://localhost:8080/"
        },
        "id": "z0soiglWKtG7",
        "outputId": "3f52d916-4dbe-421a-ccfb-bfb2f41efe50"
      },
      "outputs": [
        {
          "name": "stdout",
          "output_type": "stream",
          "text": [
            "\u001b[K     |████████████████████████████████| 412 kB 8.6 MB/s \n",
            "\u001b[K     |████████████████████████████████| 162 kB 48.4 MB/s \n",
            "\u001b[K     |████████████████████████████████| 495 kB 50.3 MB/s \n",
            "\u001b[K     |████████████████████████████████| 54 kB 2.9 MB/s \n",
            "\u001b[K     |████████████████████████████████| 140 kB 51.4 MB/s \n",
            "\u001b[?25h  Building wheel for configobj (setup.py) ... \u001b[?25l\u001b[?25hdone\n",
            "\u001b[31mERROR: pip's dependency resolver does not currently take into account all the packages that are installed. This behaviour is the source of the following dependency conflicts.\n",
            "roboflow 0.2.16 requires urllib3==1.26.6, but you have urllib3 1.26.12 which is incompatible.\u001b[0m\n",
            "Please enter your Comet API key from https://www.comet.com/api/my/settings/\n",
            "(api key may not show as you type)\n",
            "Comet API key: ··········\n"
          ]
        },
        {
          "name": "stderr",
          "output_type": "stream",
          "text": [
            "COMET INFO: Comet API key is valid\n",
            "COMET INFO: Comet API key saved in /content/drive/MyDrive/.comet.config\n"
          ]
        }
      ],
      "source": [
        "#@title Select YOLOv5 🚀 logger {run: 'auto'}\n",
        "logger = 'Comet' #@param ['TensorBoard', 'Comet', 'ClearML']\n",
        "\n",
        "if logger == 'TensorBoard':\n",
        "  %load_ext tensorboard\n",
        "  %tensorboard --logdir runs/train\n",
        "elif logger == 'Comet':\n",
        "  %pip install -q comet_ml\n",
        "  import comet_ml; comet_ml.init()\n",
        "elif logger == 'ClearML':\n",
        "  %pip install -q clearml && clearml-init"
      ]
    },
    {
      "cell_type": "code",
      "execution_count": null,
      "metadata": {
        "colab": {
          "base_uri": "https://localhost:8080/"
        },
        "id": "xuGqE8ddiWcr",
        "outputId": "5e91b400-96c6-4f57-ea71-bf64c3b19f0b"
      },
      "outputs": [
        {
          "name": "stdout",
          "output_type": "stream",
          "text": [
            "\u001b[34m\u001b[1mtrain: \u001b[0mweights=yolov5s.pt, cfg=, data=/content/yolov5/Goats-5/data.yaml, hyp=data/hyps/hyp.scratch-low.yaml, epochs=3, batch_size=16, imgsz=640, rect=False, resume=False, nosave=False, noval=False, noautoanchor=False, noplots=False, evolve=None, bucket=, cache=ram, image_weights=False, device=, multi_scale=False, single_cls=False, optimizer=SGD, sync_bn=False, workers=8, project=runs/train, name=exp, exist_ok=False, quad=False, cos_lr=False, label_smoothing=0.0, patience=100, freeze=[0], save_period=-1, seed=0, local_rank=-1, entity=None, upload_dataset=False, bbox_interval=-1, artifact_alias=latest\n",
            "\u001b[34m\u001b[1mgithub: \u001b[0mup to date with https://github.com/ultralytics/yolov5 ✅\n",
            "YOLOv5 🚀 v6.2-203-g6371de8 Python-3.7.15 torch-1.12.1+cu113 CPU\n",
            "\n",
            "\u001b[34m\u001b[1mhyperparameters: \u001b[0mlr0=0.01, lrf=0.01, momentum=0.937, weight_decay=0.0005, warmup_epochs=3.0, warmup_momentum=0.8, warmup_bias_lr=0.1, box=0.05, cls=0.5, cls_pw=1.0, obj=1.0, obj_pw=1.0, iou_t=0.2, anchor_t=4.0, fl_gamma=0.0, hsv_h=0.015, hsv_s=0.7, hsv_v=0.4, degrees=0.0, translate=0.1, scale=0.5, shear=0.0, perspective=0.0, flipud=0.0, fliplr=0.5, mosaic=1.0, mixup=0.0, copy_paste=0.0\n",
            "\u001b[34m\u001b[1mClearML: \u001b[0mrun 'pip install clearml' to automatically track, visualize and remotely train YOLOv5 🚀 in ClearML\n",
            "\u001b[34m\u001b[1mComet: \u001b[0mrun 'pip install comet_ml' to automatically track and visualize YOLOv5 🚀 runs in Comet\n",
            "\u001b[34m\u001b[1mTensorBoard: \u001b[0mStart with 'tensorboard --logdir runs/train', view at http://localhost:6006/\n",
            "Downloading https://github.com/ultralytics/yolov5/releases/download/v6.2/yolov5s.pt to yolov5s.pt...\n",
            "100% 14.1M/14.1M [00:00<00:00, 14.9MB/s]\n",
            "\n",
            "Overriding model.yaml nc=80 with nc=3\n",
            "\n",
            "                 from  n    params  module                                  arguments                     \n",
            "  0                -1  1      3520  models.common.Conv                      [3, 32, 6, 2, 2]              \n",
            "  1                -1  1     18560  models.common.Conv                      [32, 64, 3, 2]                \n",
            "  2                -1  1     18816  models.common.C3                        [64, 64, 1]                   \n",
            "  3                -1  1     73984  models.common.Conv                      [64, 128, 3, 2]               \n",
            "  4                -1  2    115712  models.common.C3                        [128, 128, 2]                 \n",
            "  5                -1  1    295424  models.common.Conv                      [128, 256, 3, 2]              \n",
            "  6                -1  3    625152  models.common.C3                        [256, 256, 3]                 \n",
            "  7                -1  1   1180672  models.common.Conv                      [256, 512, 3, 2]              \n",
            "  8                -1  1   1182720  models.common.C3                        [512, 512, 1]                 \n",
            "  9                -1  1    656896  models.common.SPPF                      [512, 512, 5]                 \n",
            " 10                -1  1    131584  models.common.Conv                      [512, 256, 1, 1]              \n",
            " 11                -1  1         0  torch.nn.modules.upsampling.Upsample    [None, 2, 'nearest']          \n",
            " 12           [-1, 6]  1         0  models.common.Concat                    [1]                           \n",
            " 13                -1  1    361984  models.common.C3                        [512, 256, 1, False]          \n",
            " 14                -1  1     33024  models.common.Conv                      [256, 128, 1, 1]              \n",
            " 15                -1  1         0  torch.nn.modules.upsampling.Upsample    [None, 2, 'nearest']          \n",
            " 16           [-1, 4]  1         0  models.common.Concat                    [1]                           \n",
            " 17                -1  1     90880  models.common.C3                        [256, 128, 1, False]          \n",
            " 18                -1  1    147712  models.common.Conv                      [128, 128, 3, 2]              \n",
            " 19          [-1, 14]  1         0  models.common.Concat                    [1]                           \n",
            " 20                -1  1    296448  models.common.C3                        [256, 256, 1, False]          \n",
            " 21                -1  1    590336  models.common.Conv                      [256, 256, 3, 2]              \n",
            " 22          [-1, 10]  1         0  models.common.Concat                    [1]                           \n",
            " 23                -1  1   1182720  models.common.C3                        [512, 512, 1, False]          \n",
            " 24      [17, 20, 23]  1     21576  models.yolo.Detect                      [3, [[10, 13, 16, 30, 33, 23], [30, 61, 62, 45, 59, 119], [116, 90, 156, 198, 373, 326]], [128, 256, 512]]\n",
            "Model summary: 214 layers, 7027720 parameters, 7027720 gradients, 16.0 GFLOPs\n",
            "\n",
            "Transferred 343/349 items from yolov5s.pt\n",
            "\u001b[34m\u001b[1moptimizer:\u001b[0m SGD(lr=0.01) with parameter groups 57 weight(decay=0.0), 60 weight(decay=0.0005), 60 bias\n",
            "\u001b[34m\u001b[1malbumentations: \u001b[0mBlur(p=0.01, blur_limit=(3, 7)), MedianBlur(p=0.01, blur_limit=(3, 7)), ToGray(p=0.01), CLAHE(p=0.01, clip_limit=(1, 4.0), tile_grid_size=(8, 8))\n",
            "\u001b[34m\u001b[1mtrain: \u001b[0mScanning '/content/yolov5/Goats-5/train/labels' images and labels...1539 found, 0 missing, 12 empty, 0 corrupt: 100% 1539/1539 [00:00<00:00, 1745.66it/s]\n",
            "\u001b[34m\u001b[1mtrain: \u001b[0mNew cache created: /content/yolov5/Goats-5/train/labels.cache\n",
            "\u001b[34m\u001b[1mtrain: \u001b[0mCaching images (1.9GB ram): 100% 1539/1539 [00:23<00:00, 65.26it/s]\n",
            "\u001b[34m\u001b[1mval: \u001b[0mScanning '/content/yolov5/Goats-5/valid/labels' images and labels...108 found, 0 missing, 2 empty, 0 corrupt: 100% 108/108 [00:00<00:00, 344.56it/s]\n",
            "\u001b[34m\u001b[1mval: \u001b[0mNew cache created: /content/yolov5/Goats-5/valid/labels.cache\n",
            "\u001b[34m\u001b[1mval: \u001b[0mCaching images (0.1GB ram): 100% 108/108 [00:03<00:00, 35.20it/s]\n",
            "\n",
            "\u001b[34m\u001b[1mAutoAnchor: \u001b[0m3.95 anchors/target, 1.000 Best Possible Recall (BPR). Current anchors are a good fit to dataset ✅\n",
            "Plotting labels to runs/train/exp/labels.jpg... \n",
            "Image sizes 640 train, 640 val\n",
            "Using 2 dataloader workers\n",
            "Logging results to \u001b[1mruns/train/exp\u001b[0m\n",
            "Starting training for 3 epochs...\n",
            "\n",
            "      Epoch    GPU_mem   box_loss   obj_loss   cls_loss  Instances       Size\n",
            "        0/2         0G    0.08069    0.03348    0.02605          8        640: 100% 97/97 [33:46<00:00, 20.89s/it]\n",
            "                 Class     Images  Instances          P          R      mAP50   mAP50-95: 100% 4/4 [00:46<00:00, 11.58s/it]\n",
            "                   all        108        198      0.733      0.278      0.238      0.092\n",
            "\n",
            "      Epoch    GPU_mem   box_loss   obj_loss   cls_loss  Instances       Size\n",
            "        1/2         0G    0.05611    0.02771    0.01005         13        640: 100% 97/97 [33:59<00:00, 21.02s/it]\n",
            "                 Class     Images  Instances          P          R      mAP50   mAP50-95: 100% 4/4 [00:45<00:00, 11.29s/it]\n",
            "                   all        108        198      0.724      0.281      0.268     0.0942\n",
            "\n",
            "      Epoch    GPU_mem   box_loss   obj_loss   cls_loss  Instances       Size\n",
            "        2/2         0G    0.04945     0.0253    0.00622          8        640: 100% 97/97 [34:13<00:00, 21.17s/it]\n",
            "                 Class     Images  Instances          P          R      mAP50   mAP50-95: 100% 4/4 [00:44<00:00, 11.15s/it]\n",
            "                   all        108        198       0.46      0.651       0.54      0.239\n",
            "\n",
            "3 epochs completed in 1.738 hours.\n",
            "Optimizer stripped from runs/train/exp/weights/last.pt, 14.5MB\n",
            "Optimizer stripped from runs/train/exp/weights/best.pt, 14.5MB\n",
            "\n",
            "Validating runs/train/exp/weights/best.pt...\n",
            "Fusing layers... \n",
            "Model summary: 157 layers, 7018216 parameters, 0 gradients, 15.8 GFLOPs\n",
            "                 Class     Images  Instances          P          R      mAP50   mAP50-95: 100% 4/4 [00:43<00:00, 10.80s/it]\n",
            "                   all        108        198      0.459      0.649       0.54      0.239\n",
            "             gaurd dog        108          4      0.393      0.489      0.323     0.0841\n",
            "                  goat        108        194      0.524      0.809      0.757      0.394\n",
            "Results saved to \u001b[1mruns/train/exp\u001b[0m\n"
          ]
        }
      ],
      "source": [
        "# Train YOLOv5s on goats for 3 epochs\n",
        "!python train.py --img 640 --batch 16 --epochs 3 --data /content/yolov5/Goats-5/data.yaml --weights yolov5s.pt --cache"
      ]
    },
    {
      "cell_type": "code",
      "execution_count": null,
      "metadata": {
        "colab": {
          "base_uri": "https://localhost:8080/"
        },
        "id": "SYL9_uWswYQb",
        "outputId": "30f9ee7e-7376-438b-9ecc-2a0a5af2aa4a"
      },
      "outputs": [
        {
          "name": "stdout",
          "output_type": "stream",
          "text": [
            "\u001b[34m\u001b[1mdetect: \u001b[0mweights=['yolov5s.pt'], source=/content/yolov5/Goats-5/test/images, data=data/coco128.yaml, imgsz=[640, 640], conf_thres=0.25, iou_thres=0.45, max_det=1000, device=, view_img=False, save_txt=False, save_conf=False, save_crop=False, nosave=False, classes=None, agnostic_nms=False, augment=False, visualize=False, update=False, project=runs/detect, name=exp, exist_ok=False, line_thickness=3, hide_labels=False, hide_conf=False, half=False, dnn=False, vid_stride=1\n",
            "YOLOv5 🚀 v6.2-203-g6371de8 Python-3.7.15 torch-1.12.1+cu113 CPU\n",
            "\n",
            "Fusing layers... \n",
            "YOLOv5s summary: 213 layers, 7225885 parameters, 0 gradients\n",
            "image 1/59 /content/yolov5/Goats-5/test/images/1647137781-787135_jpg.rf.716e7e4c7c7ae9931adbad28bc8140f9.jpg: 640x640 2 dogs, 492.6ms\n",
            "image 2/59 /content/yolov5/Goats-5/test/images/1647139008-825053_jpg.rf.ea1d71aa658579ef07be7302eb53d5ab.jpg: 640x640 1 dog, 389.0ms\n",
            "image 3/59 /content/yolov5/Goats-5/test/images/1647139370-9560802_jpg.rf.9217d5c74f37e80627face76281a981d.jpg: 640x640 2 dogs, 392.5ms\n",
            "image 4/59 /content/yolov5/Goats-5/test/images/1647139398-744249_jpg.rf.ac5a786bb6606f41916a23e73a132d39.jpg: 640x640 1 dog, 370.5ms\n",
            "image 5/59 /content/yolov5/Goats-5/test/images/1647139400-9303858_jpg.rf.b551e79fe27b1497abefa9e4a74763bd.jpg: 640x640 1 dog, 385.5ms\n",
            "image 6/59 /content/yolov5/Goats-5/test/images/1647218407-614588_jpg.rf.26808e1ae5e803fabeb99e5560383642.jpg: 640x640 1 dog, 374.1ms\n",
            "image 7/59 /content/yolov5/Goats-5/test/images/1647218414-536947_jpg.rf.f087c0940b9aed056bdcc875f88b8da2.jpg: 640x640 1 dog, 381.5ms\n",
            "image 8/59 /content/yolov5/Goats-5/test/images/1647218420-391299_jpg.rf.60516c5f952d54d66a1889a271d98001.jpg: 640x640 1 dog, 371.5ms\n",
            "image 9/59 /content/yolov5/Goats-5/test/images/1647218425-030785_jpg.rf.1e00bc947e42b878f12f2f42f63ecbec.jpg: 640x640 1 dog, 391.1ms\n",
            "image 10/59 /content/yolov5/Goats-5/test/images/1647218426-7731142_jpg.rf.8ef0ea41174c8e8fef0ed058ba7ad81d.jpg: 640x640 1 dog, 382.1ms\n",
            "image 11/59 /content/yolov5/Goats-5/test/images/1647218970-598803_jpg.rf.c4388dc4d890191bdd035d4fd4acb616.jpg: 640x640 1 cat, 3 dogs, 377.0ms\n",
            "image 12/59 /content/yolov5/Goats-5/test/images/1647224888-926479_jpg.rf.2af508d5b44372a32635f41309d67219.jpg: 640x640 1 sheep, 1 cow, 377.3ms\n",
            "image 13/59 /content/yolov5/Goats-5/test/images/1647227730-1483562_jpg.rf.94fecdcb6b6063c96ca0c1d6b5f826cc.jpg: 640x640 1 cat, 369.3ms\n",
            "image 14/59 /content/yolov5/Goats-5/test/images/2022-02-24_02-23-07_UTC_2_jpg.rf.46c74a3b5c09f274b5b9f9bcfb102abb.jpg: 640x640 1 dog, 373.4ms\n",
            "image 15/59 /content/yolov5/Goats-5/test/images/2022-02-28_17-19-44_UTC_4_jpg.rf.e8fdda3adf399368ea16d30c5689f47b.jpg: 640x640 1 dog, 382.9ms\n",
            "image 16/59 /content/yolov5/Goats-5/test/images/2022-02-28_17-20-45_UTC_jpg.rf.6f92ce089fa6745f0604abb586d48e61.jpg: 640x640 1 dog, 379.2ms\n",
            "image 17/59 /content/yolov5/Goats-5/test/images/2022-02-28_18-02-43_UTC_5_jpg.rf.3a99c18a5f7b75aebbc106b81dbb7efa.jpg: 640x640 1 dog, 383.0ms\n",
            "image 18/59 /content/yolov5/Goats-5/test/images/2022-02-28_18-07-31_UTC_2_jpg.rf.9ddbffb0c4bd8775eb39797615f4c120.jpg: 640x640 1 person, 7 sheeps, 3 cows, 370.3ms\n",
            "image 19/59 /content/yolov5/Goats-5/test/images/2022-02-28_18-07-31_UTC_3_jpg.rf.8ef9da3b6173cd0d592950e189ec25e0.jpg: 640x640 1 person, 3 sheeps, 1 cow, 376.6ms\n",
            "image 20/59 /content/yolov5/Goats-5/test/images/2022-02-28_18-07-31_UTC_5_jpg.rf.d6a5e3b335447ddc1825bb8a779a5090.jpg: 640x640 2 persons, 1 dog, 387.2ms\n",
            "image 21/59 /content/yolov5/Goats-5/test/images/2022-02-28_18-26-59_UTC_jpg.rf.543da0997ed01d82e7e84a8ea31f26e5.jpg: 640x640 1 dog, 380.5ms\n",
            "image 22/59 /content/yolov5/Goats-5/test/images/2022-02-28_18-36-50_UTC_2_jpg.rf.1092cc92ef89f87db42fe7abc769f8e6.jpg: 640x640 1 person, 2 dogs, 387.1ms\n",
            "image 23/59 /content/yolov5/Goats-5/test/images/2022-02-28_18-58-00_UTC_1_jpg.rf.29522aba8320e9e5857f935c81cbf248.jpg: 640x640 1 dog, 3 sheeps, 378.5ms\n",
            "image 24/59 /content/yolov5/Goats-5/test/images/2022-02-28_19-23-03_UTC_1_jpg.rf.1ea131fed73c322702325956697e796d.jpg: 640x640 1 cat, 374.8ms\n",
            "image 25/59 /content/yolov5/Goats-5/test/images/2022-02-28_19-23-40_UTC_1_jpg.rf.3910345004ec3c4fd05d2ce21d02b510.jpg: 640x640 1 dog, 1 sheep, 1 chair, 386.8ms\n",
            "image 26/59 /content/yolov5/Goats-5/test/images/2022-02-28_19-25-46_UTC_4_jpg.rf.c192f8c35141595ac5e86fc1d4598a90.jpg: 640x640 1 person, 1 cow, 372.3ms\n",
            "image 27/59 /content/yolov5/Goats-5/test/images/2022-02-28_20-03-05_UTC_6_jpg.rf.3e2999f42a0e29c40606606d83da48a5.jpg: 640x640 1 bird, 381.1ms\n",
            "image 28/59 /content/yolov5/Goats-5/test/images/2022-02-28_20-12-52_UTC_2_jpg.rf.333ebd1eec06001fb87f151903c2503d.jpg: 640x640 1 dog, 1 sheep, 373.2ms\n",
            "image 29/59 /content/yolov5/Goats-5/test/images/2022-02-28_20-20-59_UTC_jpg.rf.f5f460c74b70123b77da1a13aae8b215.jpg: 640x640 1 person, 373.4ms\n",
            "image 30/59 /content/yolov5/Goats-5/test/images/2022-02-28_21-11-40_UTC_4_jpg.rf.ade28bdf83b5e13ae81698bfc4b74ca8.jpg: 640x640 (no detections), 384.0ms\n",
            "image 31/59 /content/yolov5/Goats-5/test/images/2022-02-28_21-37-26_UTC_2_jpg.rf.1d509c913ce63b784a57d9df60687b1e.jpg: 640x640 1 person, 2 sheeps, 1 skateboard, 403.3ms\n",
            "image 32/59 /content/yolov5/Goats-5/test/images/2022-02-28_21-46-50_UTC_6_jpg.rf.866d6970981cbc9e0f688ec375837b7c.jpg: 640x640 1 dog, 411.3ms\n",
            "image 33/59 /content/yolov5/Goats-5/test/images/2022-02-28_22-11-28_UTC_jpg.rf.65a2570ef42e889ff4e70c9a09cc5117.jpg: 640x640 1 horse, 3 cows, 380.3ms\n",
            "image 34/59 /content/yolov5/Goats-5/test/images/2022-02-28_22-15-04_UTC_jpg.rf.3fc39380e7daf7fe1a92fe2938746aa8.jpg: 640x640 1 bear, 381.6ms\n",
            "image 35/59 /content/yolov5/Goats-5/test/images/2022-02-28_22-42-14_UTC_jpg.rf.0facf4ad4a1bb55dbda76d0465ae122a.jpg: 640x640 (no detections), 377.8ms\n",
            "image 36/59 /content/yolov5/Goats-5/test/images/2022-02-28_23-00-28_UTC_1_jpg.rf.b3d745ffbf0d428c072024fe3ce336fb.jpg: 640x640 3 persons, 1 handbag, 1 dining table, 1 cell phone, 379.2ms\n",
            "image 37/59 /content/yolov5/Goats-5/test/images/2022-02-28_23-41-39_UTC_1_jpg.rf.4f7f05c3aac65d4af6292e286d3d6d42.jpg: 640x640 1 horse, 1 cow, 394.9ms\n",
            "image 38/59 /content/yolov5/Goats-5/test/images/2022-03-01_01-18-42_UTC_1_jpg.rf.3925eb7c02189395d87f0e0fdad8a2e8.jpg: 640x640 2 sheeps, 1 potted plant, 378.2ms\n",
            "image 39/59 /content/yolov5/Goats-5/test/images/2022-03-01_01-24-38_UTC_jpg.rf.436d95b7d6f0e26e3f12608ae7c58526.jpg: 640x640 1 cat, 381.5ms\n",
            "image 40/59 /content/yolov5/Goats-5/test/images/2022-03-01_01-37-21_UTC_jpg.rf.6b77855c453baa5a62a1abd8993d9cb2.jpg: 640x640 1 cat, 375.2ms\n",
            "image 41/59 /content/yolov5/Goats-5/test/images/2022-03-01_01-44-50_UTC_2_jpg.rf.110f71098cb8b1f08d07e2cef6c7c879.jpg: 640x640 1 dog, 2 sheeps, 379.5ms\n",
            "image 42/59 /content/yolov5/Goats-5/test/images/2022-03-01_03-23-32_UTC_3_jpg.rf.9cfa21745d8d3e5f1b2985a799a80429.jpg: 640x640 1 bench, 1 dog, 1 bear, 413.6ms\n",
            "image 43/59 /content/yolov5/Goats-5/test/images/2022-03-01_04-30-14_UTC_jpg.rf.d51706d13875220b389f4bdc76b9de26.jpg: 640x640 1 person, 1 horse, 418.3ms\n",
            "image 44/59 /content/yolov5/Goats-5/test/images/2022-03-01_07-49-47_UTC_jpg.rf.32013b5afc76401cf9db3e9521b6feaa.jpg: 640x640 2 persons, 428.3ms\n",
            "image 45/59 /content/yolov5/Goats-5/test/images/2022-03-01_12-26-26_UTC_2_jpg.rf.f9a70ad02866252a301c45f22b977c8b.jpg: 640x640 1 sheep, 1 cow, 394.0ms\n",
            "image 46/59 /content/yolov5/Goats-5/test/images/2022-03-01_12-27-09_UTC_3_jpg.rf.7fbfb7a8d922a96b9824aeea55987d2e.jpg: 640x640 1 person, 1 dog, 1 sheep, 392.2ms\n",
            "image 47/59 /content/yolov5/Goats-5/test/images/2022-03-01_12-49-14_UTC_3_jpg.rf.39582080cf213f6cc67ade441049628c.jpg: 640x640 1 cat, 390.9ms\n",
            "image 48/59 /content/yolov5/Goats-5/test/images/2022-03-25T03:30:51_694144_jpg.rf.5054c150ddce82a71e5556ffa75ad824.jpg: 640x640 1 dog, 388.3ms\n",
            "image 49/59 /content/yolov5/Goats-5/test/images/2022-03-25T04:31:56_470450_jpg.rf.a06669466425cee8ebba05b2b2875e37.jpg: 640x640 1 dog, 380.4ms\n",
            "image 50/59 /content/yolov5/Goats-5/test/images/2022-03-25T09:01:23_887157_jpg.rf.bb1ee5baa9712129b7c09bc0193b89af.jpg: 640x640 2 cats, 375.2ms\n",
            "image 51/59 /content/yolov5/Goats-5/test/images/2022-03-25T11:31:15_973173_jpg.rf.17a1418d5768b56f9f0d7184a13e0c40.jpg: 640x640 1 cat, 380.3ms\n",
            "image 52/59 /content/yolov5/Goats-5/test/images/2022-03-25T12:01:08_916625_jpg.rf.ebbfc437072490d378c10449c3e4f592.jpg: 640x640 2 cats, 376.1ms\n",
            "image 53/59 /content/yolov5/Goats-5/test/images/2022-03-26T03:00:40_037519_jpg.rf.87ba49d39b34406144b1719e6736c95a.jpg: 640x640 (no detections), 377.4ms\n",
            "image 54/59 /content/yolov5/Goats-5/test/images/2022-03-26T07:00:39_063842_jpg.rf.31e677c8e989b9b4bc23d20bd102b38a.jpg: 640x640 1 bear, 384.8ms\n",
            "image 55/59 /content/yolov5/Goats-5/test/images/2022-03-26T10:31:02_531473_jpg.rf.c0e30d5e2e445acaaff3b3c0997478ca.jpg: 640x640 1 dog, 376.3ms\n",
            "image 56/59 /content/yolov5/Goats-5/test/images/2022-03-26T11:30:47_168207_jpg.rf.c656482e8d357bd5ac217b145fb5ab07.jpg: 640x640 1 cat, 383.9ms\n",
            "image 57/59 /content/yolov5/Goats-5/test/images/2022-03-26T16:31:00_412142_jpg.rf.70c2f27e448ba2902b1bbd1a61f3388e.jpg: 640x640 2 dogs, 1 sheep, 1 bowl, 376.2ms\n",
            "image 58/59 /content/yolov5/Goats-5/test/images/20220309_134749_png.rf.dfa5b83eafda1e9f06961f444af0032d.jpg: 640x640 1 bench, 1 cow, 1 skateboard, 372.3ms\n",
            "image 59/59 /content/yolov5/Goats-5/test/images/Screen-Shot-2022-03-09-at-1-36-36-PM_png.rf.cf870da8b3091a72927405468c724b67.jpg: 640x640 (no detections), 408.4ms\n",
            "Speed: 2.0ms pre-process, 385.7ms inference, 1.5ms NMS per image at shape (1, 3, 640, 640)\n",
            "Results saved to \u001b[1mruns/detect/exp2\u001b[0m\n"
          ]
        }
      ],
      "source": [
        "# Predict YOLOv5s on test data\n",
        "!python detect.py --weights yolov5s.pt --img 640 --conf 0.25 --source /content/yolov5/Goats-5/test/images"
      ]
    },
    {
      "cell_type": "code",
      "execution_count": null,
      "metadata": {
        "id": "toie2gXHI2zO"
      },
      "outputs": [],
      "source": []
    }
  ],
  "metadata": {
    "colab": {
      "collapsed_sections": [],
      "provenance": []
    },
    "kernelspec": {
      "display_name": "Python 3",
      "name": "python3"
    },
    "language_info": {
      "name": "python"
    }
  },
  "nbformat": 4,
  "nbformat_minor": 0
}
